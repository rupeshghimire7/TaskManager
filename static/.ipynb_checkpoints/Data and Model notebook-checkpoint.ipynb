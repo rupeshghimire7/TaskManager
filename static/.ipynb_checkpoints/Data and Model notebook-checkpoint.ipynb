{
 "cells": [
  {
   "cell_type": "code",
   "execution_count": 1,
   "id": "b54f0ad7",
   "metadata": {},
   "outputs": [],
   "source": [
    "import pandas as pd\n",
    "import numpy as np"
   ]
  },
  {
   "cell_type": "code",
   "execution_count": 2,
   "id": "981fec9b",
   "metadata": {},
   "outputs": [],
   "source": [
    "np.random.seed(1234)"
   ]
  },
  {
   "cell_type": "code",
   "execution_count": 3,
   "id": "551618ab",
   "metadata": {},
   "outputs": [],
   "source": [
    "# We will be creating 500 instances of data\n",
    "num_instances = 500"
   ]
  },
  {
   "cell_type": "markdown",
   "id": "f9d0186b",
   "metadata": {},
   "source": [
    "We are trying to create a model for our task manager web app that will assign 'Priority & Urgency' scores with given some features or input. What I have thought would be important in this model for task manager would be features like:\n",
    "\n",
    "* Importance of task: User while creating defines their level of importance of the task in range of 1 to 10 where 10 will be a task of most importance.\n",
    "\n",
    "* Complexity of task: User defines how complex it the task in range of 1 to 10 where 10 will be most complex task.\n",
    "\n",
    "* Days Remaining till Deadline: Days till the task has to be completed. Less days means task is more urgent.\n",
    "\n",
    "* Estimated time for task completion: Defines how many days does it take to complete the task actually.\n",
    "\n",
    "* Category of task: I have assigned 10 categories and one Others category with their respective weight values as:\n",
    "    1. 'Health': 10,\n",
    "    2. 'Family': 9,\n",
    "    3. 'Work': 8,\n",
    "    4. 'Finance': 8,\n",
    "    5. 'Education': 7,\n",
    "    6. 'Personal': 5,\n",
    "    7. 'Career': 6,\n",
    "    8. 'Social': 4,\n",
    "    9. 'Household errands': 3,\n",
    "    10. 'Entertainment': 4,\n",
    "    11. 'Others': 2"
   ]
  },
  {
   "cell_type": "code",
   "execution_count": 15,
   "id": "80f63aa2",
   "metadata": {},
   "outputs": [],
   "source": [
    "# Generate random data for each column\n",
    "importance = np.random.randint(1, 11, size=num_instances)\n",
    "complexity = np.random.randint(1, 11, size=num_instances)\n",
    "days_remaining = np.random.randint(1, 31, size=num_instances)\n",
    "estimated_days = np.random.randint(1, days_remaining + 1, size=num_instances)\n",
    "category_dict = {\n",
    "    'Health': 10,\n",
    "    'Family': 9,\n",
    "    'Work': 8,\n",
    "    'Finance': 8,\n",
    "    'Education': 7,\n",
    "    'Personal': 5,\n",
    "    'Career': 6,\n",
    "    'Social': 4,\n",
    "    'Household errands': 3,\n",
    "    'Entertainment': 4,\n",
    "    'Others': 2\n",
    "}\n",
    "categories = np.random.choice(list(category_dict.values()), size=num_instances)"
   ]
  },
  {
   "cell_type": "code",
   "execution_count": 10,
   "id": "327ceffd",
   "metadata": {},
   "outputs": [],
   "source": [
    "# Let's see values"
   ]
  },
  {
   "cell_type": "code",
   "execution_count": 11,
   "id": "6907f0ed",
   "metadata": {},
   "outputs": [
    {
     "data": {
      "text/plain": [
       "(array([10,  8,  3,  7,  9, 10,  4,  5,  9,  4,  3,  9, 10,  3,  8, 10, 10,\n",
       "         8,  6,  9,  8,  9,  1,  3,  1,  3, 10,  7,  6,  7, 10,  9,  2,  3,\n",
       "         5,  1,  3,  7,  9,  2,  6,  5,  8,  7,  5,  5,  9,  3,  7,  2,  3,\n",
       "        10,  2,  9,  6,  8,  7,  9,  3,  6,  7,  5,  6,  9,  6,  9,  5,  5,\n",
       "         1,  9, 10,  7,  2,  3,  4,  6,  1,  1, 10,  5,  9,  9,  4,  8,  7,\n",
       "         8,  5,  3,  6,  4,  5,  2,  6,  7,  3, 10,  9,  6,  1,  3,  9,  2,\n",
       "         5,  8,  5,  1,  4,  3,  8,  5,  1,  8, 10, 10,  6,  8,  7,  1, 10,\n",
       "         7,  8,  5,  6,  3, 10,  4,  1,  9,  3,  8,  9,  3,  6,  4,  8,  3,\n",
       "         3, 10,  2, 10,  2, 10,  8,  3,  6,  2,  5, 10,  7,  3,  3,  3,  1,\n",
       "         6,  4, 10,  1,  3,  8,  7,  9,  1,  1, 10,  7,  6, 10,  9,  3,  9,\n",
       "         9,  4,  5,  3,  6,  4,  2,  8,  1,  3,  3,  1,  2,  6,  8,  6,  8,\n",
       "         7,  8,  6,  3,  9,  6,  6,  1,  7,  3,  2,  8,  2,  2,  1,  8,  2,\n",
       "         8,  2,  3, 10,  1,  5,  9,  8,  5,  5,  4,  2, 10,  8,  5,  5,  6,\n",
       "         2,  9,  3,  6,  7, 10, 10,  7,  4,  5,  6, 10,  7,  9,  3,  2,  5,\n",
       "         6,  8,  1,  9,  1,  1,  7, 10,  7,  8,  8,  9,  2,  5,  2,  3,  2,\n",
       "         1,  9,  3,  9,  8,  9,  7,  5,  5,  6,  2,  9,  2,  5,  9,  3,  6,\n",
       "         6,  1,  7,  7,  5,  2,  1,  5,  8,  1,  1,  3,  7,  3,  7,  5,  5,\n",
       "        10,  8,  9,  7,  3,  1,  2,  9,  5,  9,  5,  8,  8,  5,  1,  4,  9,\n",
       "         8,  7,  5,  7,  3,  8,  6,  5,  6,  4,  6,  7,  8,  3,  2,  7,  5,\n",
       "         3, 10,  6,  9, 10,  6,  2, 10,  3,  3,  7,  9,  2,  2,  9,  2,  3,\n",
       "         2,  7,  4,  8,  5,  5, 10,  5,  5,  8,  3,  6,  4,  9, 10,  3,  1,\n",
       "         1,  9,  8,  3,  6,  7,  7,  2,  5, 10,  3,  4,  2,  1,  8,  7,  7,\n",
       "         1,  8,  1,  1,  1,  4,  9,  1,  3,  5,  5,  9,  1,  8,  8,  5,  9,\n",
       "         7,  9,  6,  5,  7,  9,  5,  2,  2,  8,  3,  8,  5,  3, 10,  8,  1,\n",
       "         1,  2,  1,  6,  1,  8,  2,  1,  8,  7,  8,  1,  8,  7,  3,  7,  7,\n",
       "         8,  9,  8,  6,  7,  2,  9, 10,  3,  2, 10,  8,  4,  7,  1,  9,  6,\n",
       "        10,  1,  4,  2,  1,  8,  8,  4,  2,  7,  7, 10, 10,  5,  7,  8,  8,\n",
       "         6,  9,  9,  1,  6,  8,  1,  7,  1,  7,  1, 10,  1, 10,  9,  1, 10,\n",
       "         1,  5,  8,  1, 10,  3,  8,  2,  5,  9,  1,  7,  7,  6,  8,  8,  6,\n",
       "         9,  4,  5, 10,  1,  8,  8]),\n",
       " array([ 4,  1,  3,  4,  7,  4,  9,  6,  3, 10,  8,  4,  8, 10, 10,  9,  4,\n",
       "         3,  1,  7,  9,  8,  3,  1,  8,  8,  9,  4,  9,  2,  6,  8,  8,  6,\n",
       "        10,  7,  3, 10,  6,  9,  2,  4,  2,  8,  7,  9,  1,  7,  6, 10, 10,\n",
       "        10,  6,  5,  4,  1,  5,  3, 10,  9,  4,  4,  7,  9,  8,  2,  5,  2,\n",
       "         9,  3,  5,  9,  4,  8, 10,  4, 10,  5,  5,  8,  1,  3,  9,  8,  5,\n",
       "        10,  4,  7,  8,  7, 10,  4,  4,  8,  8,  5,  7,  3, 10,  3,  9,  9,\n",
       "         1,  7,  4,  8,  7,  3,  1,  9,  3,  5,  7,  4,  9,  6,  8,  4,  7,\n",
       "         8, 10,  7,  3,  6,  6, 10,  1,  8,  3,  9,  6,  7,  8,  7,  2,  1,\n",
       "         6,  4,  3,  8,  2,  3,  7,  5,  8,  5,  8, 10,  3,  3,  3,  6,  1,\n",
       "         4,  1,  8,  9,  3,  9,  6, 10,  1,  4,  6,  1,  7,  8,  8, 10,  8,\n",
       "         6,  1,  6,  8,  7,  2,  2,  8,  1,  4,  1,  2,  4,  9,  6,  5,  4,\n",
       "        10,  2,  9,  3,  1,  8,  3,  4,  5,  6,  6, 10,  7,  3,  9,  9, 10,\n",
       "         6,  2,  8,  9,  4,  5,  2,  1,  4,  2,  3,  8,  4,  1,  2,  1,  2,\n",
       "         3,  8,  2,  6,  9,  8,  3,  3,  8,  7,  7,  8, 10,  7,  4,  7,  8,\n",
       "         8,  4,  8, 10,  5,  4,  5,  1,  9,  3,  7, 10,  4, 10,  4,  6,  1,\n",
       "         1,  9,  5, 10,  8,  9, 10,  4,  6,  9,  2,  1,  4,  8,  5,  1,  2,\n",
       "         6,  1,  6,  4,  8,  4,  2,  9,  2,  4,  5,  5,  7,  4,  2,  3,  4,\n",
       "         1,  2,  8,  8,  1,  4,  6,  2,  4,  2,  6, 10, 10,  4,  9,  3,  7,\n",
       "         1,  9,  2,  3,  4,  5,  7,  1, 10,  1,  7, 10,  7,  7, 10,  5,  6,\n",
       "         6,  9,  9,  5,  5,  1,  9,  7,  7,  5,  5,  6,  9,  3,  3,  6,  4,\n",
       "         6,  1,  9,  7,  7,  7,  7,  7,  9,  9,  8,  6,  1,  3,  5,  9,  7,\n",
       "         3,  3,  5,  3,  2,  3,  3,  9, 10,  2,  9,  4,  2,  2,  8,  6,  5,\n",
       "         7,  7, 10,  5,  3,  9,  9,  9, 10,  2,  2,  1,  5,  2,  3, 10,  8,\n",
       "         7,  7,  1,  2,  5,  1,  7,  7,  3,  6,  5,  5,  9,  2,  3,  2,  8,\n",
       "         7,  4, 10, 10,  9,  7,  9,  2,  1,  6, 10,  4,  8,  6,  4,  7,  9,\n",
       "        10,  4,  5,  8, 10,  8,  9,  1,  7,  8,  6,  8,  4,  5,  8, 10,  5,\n",
       "         5,  9,  9,  1,  7,  2,  1,  9,  3,  2,  7,  3,  4,  7,  4,  3,  3,\n",
       "         4,  5,  5,  3,  8,  4, 10,  4,  4,  8,  7,  7,  2,  9,  8,  8,  1,\n",
       "         4,  5,  7,  2,  5,  6,  6,  2,  3,  6,  7,  2,  1,  9, 10,  6,  1,\n",
       "         2,  8,  2,  6,  8,  6,  9]))"
      ]
     },
     "execution_count": 11,
     "metadata": {},
     "output_type": "execute_result"
    }
   ],
   "source": [
    "importance, complexity"
   ]
  },
  {
   "cell_type": "code",
   "execution_count": 12,
   "id": "2a225591",
   "metadata": {},
   "outputs": [
    {
     "data": {
      "text/plain": [
       "(array([19, 17,  3, 28, 28, 15, 23,  3, 18, 24, 19, 13, 30, 17, 15, 12, 27,\n",
       "         2, 19,  3,  4, 30,  9, 10, 15,  6, 28, 29, 24, 18, 27, 19, 28, 23,\n",
       "        29, 28, 18, 16, 16, 27,  2, 19,  3, 20, 20, 24,  1, 18,  1, 13, 11,\n",
       "         4,  8,  8, 14, 21, 15,  2, 26,  5,  5, 13, 24, 10,  4, 12,  2, 20,\n",
       "        23, 11, 20, 22, 20,  2,  2, 15, 23, 24, 12, 13, 28, 13, 25, 20, 25,\n",
       "        20, 13, 16, 30, 12,  3,  7,  5, 24,  3,  9, 21,  6, 12, 11, 12, 25,\n",
       "         2, 29, 29, 13, 15,  8, 30,  8, 12,  6,  5, 11, 23, 26, 28, 14,  8,\n",
       "        20,  8, 16, 15, 12, 30,  6, 19, 17, 30, 26,  4,  7, 14, 13, 30, 26,\n",
       "         7, 16, 21,  1, 16, 10, 12, 28, 10,  5, 20,  4, 20,  1, 22, 18, 16,\n",
       "        19, 20, 21,  9, 14, 18,  4,  3, 27,  5, 10,  8, 14, 15, 25, 28, 10,\n",
       "         8,  9,  1, 12, 27, 15,  2, 25,  6, 28, 19,  3, 13,  3, 17, 18, 18,\n",
       "        24, 19,  2, 20, 30, 30, 10, 22, 16, 21, 19,  6, 22, 26,  7, 15, 24,\n",
       "        15, 25, 22,  4, 18, 21, 27, 12, 26, 26,  2,  6, 20, 15, 19, 15,  4,\n",
       "        23,  3,  3, 13, 30, 19,  7, 10, 11,  6, 24, 20, 15, 22,  9,  2, 26,\n",
       "        24, 13,  7, 30,  8, 17, 25, 20, 21, 11, 14, 18, 30, 24, 27,  2, 15,\n",
       "        25, 16, 26,  6, 28, 11,  8, 29, 12, 21, 23, 17, 25, 28,  8, 12,  9,\n",
       "        23, 10, 28,  7, 25, 11, 25, 12, 22, 12, 29,  9, 29, 15, 15, 19,  5,\n",
       "        10,  6, 26,  6,  7, 13, 16, 14,  5, 14,  8, 14, 21, 17,  8, 10,  4,\n",
       "        28, 15, 23, 15, 23, 19,  9, 29, 30, 18,  4, 26, 14, 24,  3, 28,  5,\n",
       "        25, 18,  8, 19,  3, 29, 11, 18, 13, 21,  2, 10,  6, 14, 12, 27, 16,\n",
       "        21, 26, 25, 10, 29,  1, 28,  4,  5, 22, 11, 21, 18, 13, 11, 22, 22,\n",
       "        21, 13, 11,  4, 11, 28,  7, 22, 30, 19, 15, 10, 25, 14, 20,  9, 20,\n",
       "         2,  9,  6,  7, 10, 24, 30,  2, 10, 20,  6, 16, 13, 27, 17, 12, 11,\n",
       "         2,  9, 11, 18,  7, 27, 26, 28,  6, 23, 17, 30,  2, 23, 29,  5, 19,\n",
       "        28, 22,  1,  2, 29,  5, 14, 15, 27,  8,  1, 30, 25,  8, 13, 19,  2,\n",
       "        12, 22, 17,  3, 21,  9, 25,  4, 30, 25, 13,  8, 22, 22, 17,  8,  7,\n",
       "        13,  6, 10, 25,  1, 27,  3, 19,  4, 12,  1, 16, 13,  3, 18, 12, 12,\n",
       "         3,  3, 25, 27, 19, 25, 22,  9, 11,  9,  5, 30,  5, 19, 15, 14, 29,\n",
       "        18, 30, 26,  4, 19,  3, 13, 20,  6, 18, 12, 13, 20, 23, 14,  3, 14,\n",
       "        13,  9, 13,  3, 14, 19, 20]),\n",
       " array([ 7, 15,  2, 15, 19, 11, 11,  2, 16, 15, 14,  5, 17, 14,  4,  3, 19,\n",
       "         2, 14,  1,  2,  8,  6,  1, 12,  3, 11, 16, 11, 15, 24,  1, 19, 20,\n",
       "         5, 10, 16,  2,  6, 10,  1, 13,  3, 17,  2, 23,  1, 18,  1,  4,  6,\n",
       "         4,  8,  6,  3, 14,  5,  2,  6,  3,  3,  1,  7, 10,  3,  7,  1,  4,\n",
       "        22,  2,  8, 13,  1,  2,  1,  2,  4, 24,  7, 11,  9,  8,  9, 11,  8,\n",
       "        12, 11, 15,  2, 11,  2,  1,  5, 12,  1,  3, 16,  6,  7,  4,  9,  9,\n",
       "         2,  7, 13,  5,  3,  3,  5,  4,  6,  1,  5, 10, 14, 20, 27, 10,  8,\n",
       "         2,  3, 14,  4,  7, 15,  4, 17,  7, 12, 12,  2,  1,  8, 10, 18, 22,\n",
       "         1, 14, 14,  1,  1,  2, 11,  7,  5,  2, 16,  2, 19,  1,  6,  4,  6,\n",
       "        12, 15, 20,  7, 14,  8,  3,  1, 14,  2,  4,  1, 14,  4, 21, 18,  2,\n",
       "         5,  4,  1,  8, 26,  7,  2,  5,  6, 16,  5,  2, 13,  1, 15, 11,  6,\n",
       "         9,  4,  2, 13, 21, 12, 10,  5,  9, 13,  9,  4, 11,  5,  5, 11, 24,\n",
       "         9, 25,  3,  2,  6,  1, 24,  4, 23, 16,  1,  1,  9,  7, 10, 14,  1,\n",
       "        13,  1,  3,  8, 16,  4,  7,  4, 10,  1, 12, 19,  9,  8,  7,  2, 24,\n",
       "        11, 12,  5,  8,  7, 10, 24, 20, 20,  2, 11, 15,  9, 23,  2,  2,  1,\n",
       "         2, 14, 21,  4,  2,  7,  5, 25,  8,  5,  1,  6,  9,  9,  4, 10,  1,\n",
       "        20,  3, 24,  3,  8,  5, 25,  1, 19,  6, 24,  9,  4,  8,  4,  7,  3,\n",
       "         8,  3,  8,  3,  2,  7,  2, 12,  2, 10,  2, 12,  9,  7,  2,  2,  1,\n",
       "         5,  7,  4,  8, 11,  7,  4, 28, 27,  4,  1,  3,  3, 13,  1, 27,  1,\n",
       "         7, 17,  1, 13,  1,  5,  1, 17,  4, 17,  1,  3,  3,  3,  7, 19,  2,\n",
       "        16, 15,  5,  2,  5,  1, 10,  4,  5, 19, 10,  8,  6,  8, 11, 10, 19,\n",
       "        12,  6,  7,  3, 10, 19,  5,  9, 15,  9,  2,  2, 24,  8,  9,  1,  3,\n",
       "         1,  2,  2,  5,  7,  2,  6,  2,  8,  7,  2,  9,  8,  5,  4,  3,  7,\n",
       "         1,  9,  6,  3,  6, 19, 18, 23,  6, 10, 11, 30,  1,  2,  6,  3, 16,\n",
       "        24, 16,  1,  2,  7,  1, 12, 12, 14,  1,  1, 10, 20,  2, 10,  5,  1,\n",
       "         1, 15,  8,  1,  3,  1,  7,  3,  2, 11,  4,  4,  3, 14, 16,  1,  4,\n",
       "         3,  6,  7, 21,  1,  4,  2,  5,  1,  3,  1,  1,  4,  3,  7,  9, 12,\n",
       "         1,  1,  6,  7,  6,  8, 18,  9,  6,  3,  1, 20,  5,  9, 15,  4, 26,\n",
       "        10, 22,  7,  3, 14,  2, 10,  9,  6,  2,  4, 11,  6, 15,  6,  3,  9,\n",
       "        13,  7,  1,  3, 10, 13,  9]))"
      ]
     },
     "execution_count": 12,
     "metadata": {},
     "output_type": "execute_result"
    }
   ],
   "source": [
    "days_remaining, estimated_days"
   ]
  },
  {
   "cell_type": "code",
   "execution_count": 13,
   "id": "b6e17888",
   "metadata": {},
   "outputs": [
    {
     "data": {
      "text/plain": [
       "{'Health': 10,\n",
       " 'Family': 9,\n",
       " 'Work': 8,\n",
       " 'Finance': 8,\n",
       " 'Education': 7,\n",
       " 'Personal': 5,\n",
       " 'Career': 6,\n",
       " 'Social': 4,\n",
       " 'Household errands': 3,\n",
       " 'Entertainment': 4,\n",
       " 'Others': 2}"
      ]
     },
     "execution_count": 13,
     "metadata": {},
     "output_type": "execute_result"
    }
   ],
   "source": [
    "category_values"
   ]
  },
  {
   "cell_type": "code",
   "execution_count": 16,
   "id": "fb3c9c7f",
   "metadata": {},
   "outputs": [
    {
     "data": {
      "text/plain": [
       "array([ 9,  2, 10,  7,  4,  7, 10, 10,  9,  9,  8,  6,  9,  8,  2,  3,  3,\n",
       "        5,  8,  4,  5,  8, 10,  5,  7, 10,  6,  8,  4,  8,  2,  8,  8,  4,\n",
       "        4, 10,  7,  5,  9,  7,  8,  9,  4,  8,  7,  8, 10,  4, 10,  4,  9,\n",
       "        5,  4,  7,  5,  7,  8,  3,  4, 10,  5,  5,  6,  4,  2,  9,  6,  2,\n",
       "        8, 10,  5,  5,  3,  4,  4,  2,  5,  4,  9,  2,  2, 10,  7,  8,  8,\n",
       "        8,  5,  9,  2,  9,  2,  2,  4,  8,  2,  3,  5,  2,  4,  5,  3,  4,\n",
       "        4,  7,  7,  7,  4,  5,  4,  7,  5,  3,  2,  8,  2,  8,  3,  4,  3,\n",
       "       10,  4,  8,  3,  6,  7,  6,  8,  8,  9,  8,  6,  4,  6,  4,  9,  7,\n",
       "        5,  9,  9,  7,  8,  8,  9,  2,  4, 10,  3,  4,  4, 10,  4,  2,  7,\n",
       "        4,  6,  4,  6,  3,  3,  4,  9,  4,  6,  8,  4,  4,  7,  7,  6,  4,\n",
       "        7,  4,  4,  4,  3,  2,  7,  2,  6,  4,  7,  7,  8,  8,  6, 10,  9,\n",
       "        3,  8,  8,  7,  4,  5,  6,  5,  8,  5,  7,  4,  7, 10,  9,  3,  9,\n",
       "        3,  2,  5, 10,  2,  8,  4,  4,  5,  6,  5,  8,  4,  4,  6,  4,  4,\n",
       "        9,  2,  4,  2,  6,  5,  2,  4,  2,  8,  8,  6,  5,  4, 10,  8,  5,\n",
       "        4,  4, 10,  4,  4,  8,  3,  4,  7,  8,  8,  8,  5,  3,  8,  5,  7,\n",
       "        4,  2,  8,  3,  6,  3,  8,  5,  9,  6,  8,  9,  3, 10,  8,  6,  9,\n",
       "        8, 10,  2,  4,  7,  2,  9,  7,  5,  8,  9,  3,  9,  4,  2,  2,  4,\n",
       "        8,  8, 10,  8,  4,  2,  4,  4,  3,  9,  3,  9,  5,  8,  9,  6,  4,\n",
       "        3,  5,  4,  2,  8,  7,  3,  3,  7,  6,  9,  4,  3,  2,  8, 10,  2,\n",
       "        4,  7,  6, 10,  8,  5,  8,  2,  8,  3,  3,  6,  8,  8,  7,  7,  6,\n",
       "        3, 10,  8,  6,  7, 10,  3,  7,  8,  4,  6,  6,  5,  5,  4,  2,  3,\n",
       "        7,  8,  6,  7,  9,  2, 10,  8,  9,  8,  7,  8,  8,  9,  8,  6, 10,\n",
       "        3,  8,  2,  9,  4,  5,  5,  9,  6, 10,  8,  7,  8,  4,  7,  8,  7,\n",
       "       10,  8,  9,  6,  5,  9,  8,  2,  3,  4,  4,  4,  6,  8,  3, 10,  8,\n",
       "        5,  6,  3,  2,  9,  4,  8,  2,  8,  8,  8, 10,  6,  2,  2,  2,  4,\n",
       "        8,  3,  2,  8,  9,  8, 10,  9,  4,  9,  4, 10, 10,  4,  4,  7,  3,\n",
       "        4,  4,  9,  5,  6,  4,  9,  7,  3,  8,  8,  6,  6,  9,  3,  4,  8,\n",
       "        7,  2,  2,  6,  6,  3,  8,  7,  4,  9,  4,  2,  9,  4,  7, 10,  2,\n",
       "        5,  8,  6,  4,  4,  9,  4,  9,  8,  4,  4, 10,  9,  4,  8,  3,  3,\n",
       "        9,  8,  3,  4,  4,  8,  2])"
      ]
     },
     "execution_count": 16,
     "metadata": {},
     "output_type": "execute_result"
    }
   ],
   "source": [
    "categories"
   ]
  },
  {
   "cell_type": "markdown",
   "id": "90991831",
   "metadata": {},
   "source": [
    "**Creating DataFrame**"
   ]
  },
  {
   "cell_type": "code",
   "execution_count": 17,
   "id": "1fa8ba89",
   "metadata": {},
   "outputs": [
    {
     "data": {
      "text/html": [
       "<div>\n",
       "<style scoped>\n",
       "    .dataframe tbody tr th:only-of-type {\n",
       "        vertical-align: middle;\n",
       "    }\n",
       "\n",
       "    .dataframe tbody tr th {\n",
       "        vertical-align: top;\n",
       "    }\n",
       "\n",
       "    .dataframe thead th {\n",
       "        text-align: right;\n",
       "    }\n",
       "</style>\n",
       "<table border=\"1\" class=\"dataframe\">\n",
       "  <thead>\n",
       "    <tr style=\"text-align: right;\">\n",
       "      <th></th>\n",
       "      <th>Importance</th>\n",
       "      <th>Complexity</th>\n",
       "      <th>Days_Remaining</th>\n",
       "      <th>Estimated_Days</th>\n",
       "      <th>Category</th>\n",
       "    </tr>\n",
       "  </thead>\n",
       "  <tbody>\n",
       "    <tr>\n",
       "      <th>0</th>\n",
       "      <td>4</td>\n",
       "      <td>3</td>\n",
       "      <td>3</td>\n",
       "      <td>3</td>\n",
       "      <td>9</td>\n",
       "    </tr>\n",
       "    <tr>\n",
       "      <th>1</th>\n",
       "      <td>10</td>\n",
       "      <td>8</td>\n",
       "      <td>7</td>\n",
       "      <td>4</td>\n",
       "      <td>2</td>\n",
       "    </tr>\n",
       "    <tr>\n",
       "      <th>2</th>\n",
       "      <td>6</td>\n",
       "      <td>9</td>\n",
       "      <td>10</td>\n",
       "      <td>3</td>\n",
       "      <td>10</td>\n",
       "    </tr>\n",
       "    <tr>\n",
       "      <th>3</th>\n",
       "      <td>10</td>\n",
       "      <td>3</td>\n",
       "      <td>25</td>\n",
       "      <td>12</td>\n",
       "      <td>7</td>\n",
       "    </tr>\n",
       "    <tr>\n",
       "      <th>4</th>\n",
       "      <td>10</td>\n",
       "      <td>3</td>\n",
       "      <td>28</td>\n",
       "      <td>22</td>\n",
       "      <td>4</td>\n",
       "    </tr>\n",
       "    <tr>\n",
       "      <th>...</th>\n",
       "      <td>...</td>\n",
       "      <td>...</td>\n",
       "      <td>...</td>\n",
       "      <td>...</td>\n",
       "      <td>...</td>\n",
       "    </tr>\n",
       "    <tr>\n",
       "      <th>495</th>\n",
       "      <td>3</td>\n",
       "      <td>1</td>\n",
       "      <td>4</td>\n",
       "      <td>2</td>\n",
       "      <td>3</td>\n",
       "    </tr>\n",
       "    <tr>\n",
       "      <th>496</th>\n",
       "      <td>4</td>\n",
       "      <td>5</td>\n",
       "      <td>20</td>\n",
       "      <td>4</td>\n",
       "      <td>4</td>\n",
       "    </tr>\n",
       "    <tr>\n",
       "      <th>497</th>\n",
       "      <td>6</td>\n",
       "      <td>3</td>\n",
       "      <td>20</td>\n",
       "      <td>10</td>\n",
       "      <td>4</td>\n",
       "    </tr>\n",
       "    <tr>\n",
       "      <th>498</th>\n",
       "      <td>5</td>\n",
       "      <td>10</td>\n",
       "      <td>9</td>\n",
       "      <td>5</td>\n",
       "      <td>8</td>\n",
       "    </tr>\n",
       "    <tr>\n",
       "      <th>499</th>\n",
       "      <td>9</td>\n",
       "      <td>8</td>\n",
       "      <td>20</td>\n",
       "      <td>6</td>\n",
       "      <td>2</td>\n",
       "    </tr>\n",
       "  </tbody>\n",
       "</table>\n",
       "<p>500 rows × 5 columns</p>\n",
       "</div>"
      ],
      "text/plain": [
       "     Importance  Complexity  Days_Remaining  Estimated_Days  Category\n",
       "0             4           3               3               3         9\n",
       "1            10           8               7               4         2\n",
       "2             6           9              10               3        10\n",
       "3            10           3              25              12         7\n",
       "4            10           3              28              22         4\n",
       "..          ...         ...             ...             ...       ...\n",
       "495           3           1               4               2         3\n",
       "496           4           5              20               4         4\n",
       "497           6           3              20              10         4\n",
       "498           5          10               9               5         8\n",
       "499           9           8              20               6         2\n",
       "\n",
       "[500 rows x 5 columns]"
      ]
     },
     "execution_count": 17,
     "metadata": {},
     "output_type": "execute_result"
    }
   ],
   "source": [
    "# Create a DataFrame\n",
    "data = pd.DataFrame({\n",
    "    'Importance': importance,\n",
    "    'Complexity': complexity,\n",
    "    'Days_Remaining': days_remaining,\n",
    "    'Estimated_Days': estimated_days,\n",
    "    'Category': categories\n",
    "})\n",
    "\n",
    "data"
   ]
  },
  {
   "cell_type": "markdown",
   "id": "c273dd50",
   "metadata": {},
   "source": [
    "#### Creating Target Column\n",
    "\n",
    "For target column, we will consider all feature columns and multiply with some weights and obtain a value."
   ]
  },
  {
   "cell_type": "code",
   "execution_count": 45,
   "id": "4e3f91d0",
   "metadata": {},
   "outputs": [],
   "source": [
    "data['Target'] = (\n",
    "    0.35 * data['Importance'] +\n",
    "    0.1 * data['Days_Remaining'] +\n",
    "    0.2 * data['Complexity'] +\n",
    "    0.05 * data['Estimated_Days'] +\n",
    "    0.3 * data['Category']\n",
    ").astype(int) + 1  # Adding 1 to ensure the target is in the range 1-5\n"
   ]
  },
  {
   "cell_type": "code",
   "execution_count": 49,
   "id": "b4d862cb",
   "metadata": {},
   "outputs": [
    {
     "name": "stdout",
     "output_type": "stream",
     "text": [
      "5    905\n",
      "2    534\n",
      "1    531\n",
      "4    522\n",
      "3    508\n",
      "Name: Target, dtype: int64\n"
     ]
    }
   ],
   "source": [
    "# Define a target balance ratio (adjust as needed)\n",
    "target_balance_ratio = 0.2\n",
    "\n",
    "# Initialize an empty DataFrame to store the balanced data\n",
    "balanced_data = pd.DataFrame()\n",
    "\n",
    "# Iterate over target values and balance each class\n",
    "for target_value in range(1, 6):\n",
    "    target_count = (data['Target'] == target_value).sum()\n",
    "    oversample_count = int((1 / target_balance_ratio) * target_count)\n",
    "\n",
    "    # Oversample minority classes and concatenate with the original data\n",
    "    if oversample_count > 0:\n",
    "        oversample_indices = np.random.choice(data[data['Target'] == target_value].index, oversample_count)\n",
    "        oversampled_subset = data.loc[oversample_indices].copy()\n",
    "        oversampled_subset['Target'] = np.random.randint(1, 6, size=oversample_count)\n",
    "        balanced_data = pd.concat([balanced_data, oversampled_subset])\n",
    "\n",
    "# If the balanced_data DataFrame is empty, keep the original data\n",
    "if not balanced_data.empty:\n",
    "    data = pd.concat([data, balanced_data])\n",
    "\n",
    "# Normalize the target column to be in the range 1-5\n",
    "data['Target'] = np.clip(data['Target'], 1, 5).astype(int)\n",
    "\n",
    "# Display the value counts for the adjusted target column\n",
    "print(data['Target'].value_counts())\n"
   ]
  },
  {
   "cell_type": "code",
   "execution_count": null,
   "id": "cd0434ba",
   "metadata": {},
   "outputs": [],
   "source": []
  },
  {
   "cell_type": "code",
   "execution_count": null,
   "id": "997a48b6",
   "metadata": {},
   "outputs": [],
   "source": []
  },
  {
   "cell_type": "code",
   "execution_count": 52,
   "id": "babbbc78",
   "metadata": {},
   "outputs": [
    {
     "data": {
      "text/html": [
       "<div>\n",
       "<style scoped>\n",
       "    .dataframe tbody tr th:only-of-type {\n",
       "        vertical-align: middle;\n",
       "    }\n",
       "\n",
       "    .dataframe tbody tr th {\n",
       "        vertical-align: top;\n",
       "    }\n",
       "\n",
       "    .dataframe thead th {\n",
       "        text-align: right;\n",
       "    }\n",
       "</style>\n",
       "<table border=\"1\" class=\"dataframe\">\n",
       "  <thead>\n",
       "    <tr style=\"text-align: right;\">\n",
       "      <th></th>\n",
       "      <th>Importance</th>\n",
       "      <th>Complexity</th>\n",
       "      <th>Days_Remaining</th>\n",
       "      <th>Estimated_Days</th>\n",
       "      <th>Category</th>\n",
       "      <th>Target</th>\n",
       "    </tr>\n",
       "  </thead>\n",
       "  <tbody>\n",
       "    <tr>\n",
       "      <th>0</th>\n",
       "      <td>4</td>\n",
       "      <td>3</td>\n",
       "      <td>3</td>\n",
       "      <td>3</td>\n",
       "      <td>9</td>\n",
       "      <td>5</td>\n",
       "    </tr>\n",
       "    <tr>\n",
       "      <th>1</th>\n",
       "      <td>10</td>\n",
       "      <td>8</td>\n",
       "      <td>7</td>\n",
       "      <td>4</td>\n",
       "      <td>2</td>\n",
       "      <td>5</td>\n",
       "    </tr>\n",
       "    <tr>\n",
       "      <th>2</th>\n",
       "      <td>6</td>\n",
       "      <td>9</td>\n",
       "      <td>10</td>\n",
       "      <td>3</td>\n",
       "      <td>10</td>\n",
       "      <td>5</td>\n",
       "    </tr>\n",
       "    <tr>\n",
       "      <th>3</th>\n",
       "      <td>10</td>\n",
       "      <td>3</td>\n",
       "      <td>25</td>\n",
       "      <td>12</td>\n",
       "      <td>7</td>\n",
       "      <td>5</td>\n",
       "    </tr>\n",
       "    <tr>\n",
       "      <th>4</th>\n",
       "      <td>10</td>\n",
       "      <td>3</td>\n",
       "      <td>28</td>\n",
       "      <td>22</td>\n",
       "      <td>4</td>\n",
       "      <td>5</td>\n",
       "    </tr>\n",
       "    <tr>\n",
       "      <th>...</th>\n",
       "      <td>...</td>\n",
       "      <td>...</td>\n",
       "      <td>...</td>\n",
       "      <td>...</td>\n",
       "      <td>...</td>\n",
       "      <td>...</td>\n",
       "    </tr>\n",
       "    <tr>\n",
       "      <th>2995</th>\n",
       "      <td>7</td>\n",
       "      <td>9</td>\n",
       "      <td>10</td>\n",
       "      <td>2</td>\n",
       "      <td>4</td>\n",
       "      <td>3</td>\n",
       "    </tr>\n",
       "    <tr>\n",
       "      <th>2996</th>\n",
       "      <td>3</td>\n",
       "      <td>5</td>\n",
       "      <td>25</td>\n",
       "      <td>13</td>\n",
       "      <td>7</td>\n",
       "      <td>2</td>\n",
       "    </tr>\n",
       "    <tr>\n",
       "      <th>2997</th>\n",
       "      <td>3</td>\n",
       "      <td>7</td>\n",
       "      <td>15</td>\n",
       "      <td>4</td>\n",
       "      <td>3</td>\n",
       "      <td>1</td>\n",
       "    </tr>\n",
       "    <tr>\n",
       "      <th>2998</th>\n",
       "      <td>1</td>\n",
       "      <td>9</td>\n",
       "      <td>17</td>\n",
       "      <td>3</td>\n",
       "      <td>8</td>\n",
       "      <td>4</td>\n",
       "    </tr>\n",
       "    <tr>\n",
       "      <th>2999</th>\n",
       "      <td>10</td>\n",
       "      <td>7</td>\n",
       "      <td>28</td>\n",
       "      <td>8</td>\n",
       "      <td>3</td>\n",
       "      <td>5</td>\n",
       "    </tr>\n",
       "  </tbody>\n",
       "</table>\n",
       "<p>3000 rows × 6 columns</p>\n",
       "</div>"
      ],
      "text/plain": [
       "      Importance  Complexity  Days_Remaining  Estimated_Days  Category  Target\n",
       "0              4           3               3               3         9       5\n",
       "1             10           8               7               4         2       5\n",
       "2              6           9              10               3        10       5\n",
       "3             10           3              25              12         7       5\n",
       "4             10           3              28              22         4       5\n",
       "...          ...         ...             ...             ...       ...     ...\n",
       "2995           7           9              10               2         4       3\n",
       "2996           3           5              25              13         7       2\n",
       "2997           3           7              15               4         3       1\n",
       "2998           1           9              17               3         8       4\n",
       "2999          10           7              28               8         3       5\n",
       "\n",
       "[3000 rows x 6 columns]"
      ]
     },
     "execution_count": 52,
     "metadata": {},
     "output_type": "execute_result"
    }
   ],
   "source": [
    "data.reset_index(drop=True, inplace=True)\n",
    "data"
   ]
  },
  {
   "cell_type": "code",
   "execution_count": 53,
   "id": "3993a040",
   "metadata": {},
   "outputs": [
    {
     "data": {
      "text/plain": [
       "5    905\n",
       "2    534\n",
       "1    531\n",
       "4    522\n",
       "3    508\n",
       "Name: Target, dtype: int64"
      ]
     },
     "execution_count": 53,
     "metadata": {},
     "output_type": "execute_result"
    }
   ],
   "source": [
    " data.Target.value_counts()"
   ]
  },
  {
   "cell_type": "code",
   "execution_count": 54,
   "id": "14fd3be1",
   "metadata": {},
   "outputs": [],
   "source": [
    "from sklearn.model_selection import train_test_split\n",
    "from sklearn.ensemble import RandomForestClassifier\n",
    "from sklearn.metrics import classification_report, accuracy_score"
   ]
  },
  {
   "cell_type": "code",
   "execution_count": 56,
   "id": "578081bb",
   "metadata": {},
   "outputs": [],
   "source": [
    "X = data.drop('Target', axis=1)\n",
    "y = data['Target']"
   ]
  },
  {
   "cell_type": "code",
   "execution_count": 57,
   "id": "5380f8a7",
   "metadata": {},
   "outputs": [],
   "source": [
    "X_train, X_test, y_train, y_test = train_test_split(X, y, test_size=0.15, random_state=42)"
   ]
  },
  {
   "cell_type": "code",
   "execution_count": 58,
   "id": "4aa4e05c",
   "metadata": {},
   "outputs": [],
   "source": [
    "clf = RandomForestClassifier(random_state=42)"
   ]
  },
  {
   "cell_type": "code",
   "execution_count": 59,
   "id": "ede6d8f7",
   "metadata": {},
   "outputs": [
    {
     "data": {
      "text/html": [
       "<style>#sk-container-id-1 {color: black;background-color: white;}#sk-container-id-1 pre{padding: 0;}#sk-container-id-1 div.sk-toggleable {background-color: white;}#sk-container-id-1 label.sk-toggleable__label {cursor: pointer;display: block;width: 100%;margin-bottom: 0;padding: 0.3em;box-sizing: border-box;text-align: center;}#sk-container-id-1 label.sk-toggleable__label-arrow:before {content: \"▸\";float: left;margin-right: 0.25em;color: #696969;}#sk-container-id-1 label.sk-toggleable__label-arrow:hover:before {color: black;}#sk-container-id-1 div.sk-estimator:hover label.sk-toggleable__label-arrow:before {color: black;}#sk-container-id-1 div.sk-toggleable__content {max-height: 0;max-width: 0;overflow: hidden;text-align: left;background-color: #f0f8ff;}#sk-container-id-1 div.sk-toggleable__content pre {margin: 0.2em;color: black;border-radius: 0.25em;background-color: #f0f8ff;}#sk-container-id-1 input.sk-toggleable__control:checked~div.sk-toggleable__content {max-height: 200px;max-width: 100%;overflow: auto;}#sk-container-id-1 input.sk-toggleable__control:checked~label.sk-toggleable__label-arrow:before {content: \"▾\";}#sk-container-id-1 div.sk-estimator input.sk-toggleable__control:checked~label.sk-toggleable__label {background-color: #d4ebff;}#sk-container-id-1 div.sk-label input.sk-toggleable__control:checked~label.sk-toggleable__label {background-color: #d4ebff;}#sk-container-id-1 input.sk-hidden--visually {border: 0;clip: rect(1px 1px 1px 1px);clip: rect(1px, 1px, 1px, 1px);height: 1px;margin: -1px;overflow: hidden;padding: 0;position: absolute;width: 1px;}#sk-container-id-1 div.sk-estimator {font-family: monospace;background-color: #f0f8ff;border: 1px dotted black;border-radius: 0.25em;box-sizing: border-box;margin-bottom: 0.5em;}#sk-container-id-1 div.sk-estimator:hover {background-color: #d4ebff;}#sk-container-id-1 div.sk-parallel-item::after {content: \"\";width: 100%;border-bottom: 1px solid gray;flex-grow: 1;}#sk-container-id-1 div.sk-label:hover label.sk-toggleable__label {background-color: #d4ebff;}#sk-container-id-1 div.sk-serial::before {content: \"\";position: absolute;border-left: 1px solid gray;box-sizing: border-box;top: 0;bottom: 0;left: 50%;z-index: 0;}#sk-container-id-1 div.sk-serial {display: flex;flex-direction: column;align-items: center;background-color: white;padding-right: 0.2em;padding-left: 0.2em;position: relative;}#sk-container-id-1 div.sk-item {position: relative;z-index: 1;}#sk-container-id-1 div.sk-parallel {display: flex;align-items: stretch;justify-content: center;background-color: white;position: relative;}#sk-container-id-1 div.sk-item::before, #sk-container-id-1 div.sk-parallel-item::before {content: \"\";position: absolute;border-left: 1px solid gray;box-sizing: border-box;top: 0;bottom: 0;left: 50%;z-index: -1;}#sk-container-id-1 div.sk-parallel-item {display: flex;flex-direction: column;z-index: 1;position: relative;background-color: white;}#sk-container-id-1 div.sk-parallel-item:first-child::after {align-self: flex-end;width: 50%;}#sk-container-id-1 div.sk-parallel-item:last-child::after {align-self: flex-start;width: 50%;}#sk-container-id-1 div.sk-parallel-item:only-child::after {width: 0;}#sk-container-id-1 div.sk-dashed-wrapped {border: 1px dashed gray;margin: 0 0.4em 0.5em 0.4em;box-sizing: border-box;padding-bottom: 0.4em;background-color: white;}#sk-container-id-1 div.sk-label label {font-family: monospace;font-weight: bold;display: inline-block;line-height: 1.2em;}#sk-container-id-1 div.sk-label-container {text-align: center;}#sk-container-id-1 div.sk-container {/* jupyter's `normalize.less` sets `[hidden] { display: none; }` but bootstrap.min.css set `[hidden] { display: none !important; }` so we also need the `!important` here to be able to override the default hidden behavior on the sphinx rendered scikit-learn.org. See: https://github.com/scikit-learn/scikit-learn/issues/21755 */display: inline-block !important;position: relative;}#sk-container-id-1 div.sk-text-repr-fallback {display: none;}</style><div id=\"sk-container-id-1\" class=\"sk-top-container\"><div class=\"sk-text-repr-fallback\"><pre>RandomForestClassifier(random_state=42)</pre><b>In a Jupyter environment, please rerun this cell to show the HTML representation or trust the notebook. <br />On GitHub, the HTML representation is unable to render, please try loading this page with nbviewer.org.</b></div><div class=\"sk-container\" hidden><div class=\"sk-item\"><div class=\"sk-estimator sk-toggleable\"><input class=\"sk-toggleable__control sk-hidden--visually\" id=\"sk-estimator-id-1\" type=\"checkbox\" checked><label for=\"sk-estimator-id-1\" class=\"sk-toggleable__label sk-toggleable__label-arrow\">RandomForestClassifier</label><div class=\"sk-toggleable__content\"><pre>RandomForestClassifier(random_state=42)</pre></div></div></div></div></div>"
      ],
      "text/plain": [
       "RandomForestClassifier(random_state=42)"
      ]
     },
     "execution_count": 59,
     "metadata": {},
     "output_type": "execute_result"
    }
   ],
   "source": [
    "clf.fit(X_train, y_train)"
   ]
  },
  {
   "cell_type": "code",
   "execution_count": 60,
   "id": "170cca28",
   "metadata": {},
   "outputs": [],
   "source": [
    "y_pred = clf.predict(X_test)"
   ]
  },
  {
   "cell_type": "code",
   "execution_count": 61,
   "id": "59cc74ad",
   "metadata": {},
   "outputs": [],
   "source": [
    "accuracy = accuracy_score(y_test, y_pred)\n",
    "classification_report_str = classification_report(y_test, y_pred)"
   ]
  },
  {
   "cell_type": "code",
   "execution_count": 62,
   "id": "67d19d90",
   "metadata": {},
   "outputs": [
    {
     "name": "stdout",
     "output_type": "stream",
     "text": [
      "Accuracy: 0.17\n",
      "Classification Report:\n",
      "              precision    recall  f1-score   support\n",
      "\n",
      "           1       0.21      0.21      0.21        81\n",
      "           2       0.08      0.08      0.08        73\n",
      "           3       0.19      0.18      0.18        78\n",
      "           4       0.17      0.16      0.17        86\n",
      "           5       0.19      0.20      0.20       132\n",
      "\n",
      "    accuracy                           0.17       450\n",
      "   macro avg       0.17      0.17      0.17       450\n",
      "weighted avg       0.17      0.17      0.17       450\n",
      "\n"
     ]
    }
   ],
   "source": [
    "print(f\"Accuracy: {accuracy:.2f}\")\n",
    "print(\"Classification Report:\")\n",
    "print(classification_report_str)"
   ]
  },
  {
   "cell_type": "code",
   "execution_count": null,
   "id": "f29b38c2",
   "metadata": {},
   "outputs": [],
   "source": []
  },
  {
   "cell_type": "code",
   "execution_count": 63,
   "id": "28e86380",
   "metadata": {},
   "outputs": [],
   "source": [
    "from sklearn.svm import SVC"
   ]
  },
  {
   "cell_type": "code",
   "execution_count": 64,
   "id": "8be702cb",
   "metadata": {},
   "outputs": [],
   "source": [
    "svm_clf = SVC(random_state=42)"
   ]
  },
  {
   "cell_type": "code",
   "execution_count": 65,
   "id": "81783f2b",
   "metadata": {},
   "outputs": [
    {
     "data": {
      "text/html": [
       "<style>#sk-container-id-2 {color: black;background-color: white;}#sk-container-id-2 pre{padding: 0;}#sk-container-id-2 div.sk-toggleable {background-color: white;}#sk-container-id-2 label.sk-toggleable__label {cursor: pointer;display: block;width: 100%;margin-bottom: 0;padding: 0.3em;box-sizing: border-box;text-align: center;}#sk-container-id-2 label.sk-toggleable__label-arrow:before {content: \"▸\";float: left;margin-right: 0.25em;color: #696969;}#sk-container-id-2 label.sk-toggleable__label-arrow:hover:before {color: black;}#sk-container-id-2 div.sk-estimator:hover label.sk-toggleable__label-arrow:before {color: black;}#sk-container-id-2 div.sk-toggleable__content {max-height: 0;max-width: 0;overflow: hidden;text-align: left;background-color: #f0f8ff;}#sk-container-id-2 div.sk-toggleable__content pre {margin: 0.2em;color: black;border-radius: 0.25em;background-color: #f0f8ff;}#sk-container-id-2 input.sk-toggleable__control:checked~div.sk-toggleable__content {max-height: 200px;max-width: 100%;overflow: auto;}#sk-container-id-2 input.sk-toggleable__control:checked~label.sk-toggleable__label-arrow:before {content: \"▾\";}#sk-container-id-2 div.sk-estimator input.sk-toggleable__control:checked~label.sk-toggleable__label {background-color: #d4ebff;}#sk-container-id-2 div.sk-label input.sk-toggleable__control:checked~label.sk-toggleable__label {background-color: #d4ebff;}#sk-container-id-2 input.sk-hidden--visually {border: 0;clip: rect(1px 1px 1px 1px);clip: rect(1px, 1px, 1px, 1px);height: 1px;margin: -1px;overflow: hidden;padding: 0;position: absolute;width: 1px;}#sk-container-id-2 div.sk-estimator {font-family: monospace;background-color: #f0f8ff;border: 1px dotted black;border-radius: 0.25em;box-sizing: border-box;margin-bottom: 0.5em;}#sk-container-id-2 div.sk-estimator:hover {background-color: #d4ebff;}#sk-container-id-2 div.sk-parallel-item::after {content: \"\";width: 100%;border-bottom: 1px solid gray;flex-grow: 1;}#sk-container-id-2 div.sk-label:hover label.sk-toggleable__label {background-color: #d4ebff;}#sk-container-id-2 div.sk-serial::before {content: \"\";position: absolute;border-left: 1px solid gray;box-sizing: border-box;top: 0;bottom: 0;left: 50%;z-index: 0;}#sk-container-id-2 div.sk-serial {display: flex;flex-direction: column;align-items: center;background-color: white;padding-right: 0.2em;padding-left: 0.2em;position: relative;}#sk-container-id-2 div.sk-item {position: relative;z-index: 1;}#sk-container-id-2 div.sk-parallel {display: flex;align-items: stretch;justify-content: center;background-color: white;position: relative;}#sk-container-id-2 div.sk-item::before, #sk-container-id-2 div.sk-parallel-item::before {content: \"\";position: absolute;border-left: 1px solid gray;box-sizing: border-box;top: 0;bottom: 0;left: 50%;z-index: -1;}#sk-container-id-2 div.sk-parallel-item {display: flex;flex-direction: column;z-index: 1;position: relative;background-color: white;}#sk-container-id-2 div.sk-parallel-item:first-child::after {align-self: flex-end;width: 50%;}#sk-container-id-2 div.sk-parallel-item:last-child::after {align-self: flex-start;width: 50%;}#sk-container-id-2 div.sk-parallel-item:only-child::after {width: 0;}#sk-container-id-2 div.sk-dashed-wrapped {border: 1px dashed gray;margin: 0 0.4em 0.5em 0.4em;box-sizing: border-box;padding-bottom: 0.4em;background-color: white;}#sk-container-id-2 div.sk-label label {font-family: monospace;font-weight: bold;display: inline-block;line-height: 1.2em;}#sk-container-id-2 div.sk-label-container {text-align: center;}#sk-container-id-2 div.sk-container {/* jupyter's `normalize.less` sets `[hidden] { display: none; }` but bootstrap.min.css set `[hidden] { display: none !important; }` so we also need the `!important` here to be able to override the default hidden behavior on the sphinx rendered scikit-learn.org. See: https://github.com/scikit-learn/scikit-learn/issues/21755 */display: inline-block !important;position: relative;}#sk-container-id-2 div.sk-text-repr-fallback {display: none;}</style><div id=\"sk-container-id-2\" class=\"sk-top-container\"><div class=\"sk-text-repr-fallback\"><pre>SVC(random_state=42)</pre><b>In a Jupyter environment, please rerun this cell to show the HTML representation or trust the notebook. <br />On GitHub, the HTML representation is unable to render, please try loading this page with nbviewer.org.</b></div><div class=\"sk-container\" hidden><div class=\"sk-item\"><div class=\"sk-estimator sk-toggleable\"><input class=\"sk-toggleable__control sk-hidden--visually\" id=\"sk-estimator-id-2\" type=\"checkbox\" checked><label for=\"sk-estimator-id-2\" class=\"sk-toggleable__label sk-toggleable__label-arrow\">SVC</label><div class=\"sk-toggleable__content\"><pre>SVC(random_state=42)</pre></div></div></div></div></div>"
      ],
      "text/plain": [
       "SVC(random_state=42)"
      ]
     },
     "execution_count": 65,
     "metadata": {},
     "output_type": "execute_result"
    }
   ],
   "source": [
    "svm_clf.fit(X_train, y_train)"
   ]
  },
  {
   "cell_type": "code",
   "execution_count": 66,
   "id": "f579327c",
   "metadata": {},
   "outputs": [],
   "source": [
    "svm_y_pred = svm_clf.predict(X_test)"
   ]
  },
  {
   "cell_type": "code",
   "execution_count": 67,
   "id": "3177b38c",
   "metadata": {},
   "outputs": [
    {
     "name": "stderr",
     "output_type": "stream",
     "text": [
      "/home/contra/.local/lib/python3.10/site-packages/sklearn/metrics/_classification.py:1344: UndefinedMetricWarning: Precision and F-score are ill-defined and being set to 0.0 in labels with no predicted samples. Use `zero_division` parameter to control this behavior.\n",
      "  _warn_prf(average, modifier, msg_start, len(result))\n",
      "/home/contra/.local/lib/python3.10/site-packages/sklearn/metrics/_classification.py:1344: UndefinedMetricWarning: Precision and F-score are ill-defined and being set to 0.0 in labels with no predicted samples. Use `zero_division` parameter to control this behavior.\n",
      "  _warn_prf(average, modifier, msg_start, len(result))\n",
      "/home/contra/.local/lib/python3.10/site-packages/sklearn/metrics/_classification.py:1344: UndefinedMetricWarning: Precision and F-score are ill-defined and being set to 0.0 in labels with no predicted samples. Use `zero_division` parameter to control this behavior.\n",
      "  _warn_prf(average, modifier, msg_start, len(result))\n"
     ]
    }
   ],
   "source": [
    "svm_accuracy = accuracy_score(y_test, svm_y_pred)\n",
    "svm_classification_report_str = classification_report(y_test, svm_y_pred)"
   ]
  },
  {
   "cell_type": "code",
   "execution_count": 68,
   "id": "1a5eb7e3",
   "metadata": {},
   "outputs": [
    {
     "name": "stdout",
     "output_type": "stream",
     "text": [
      "SVM Accuracy: 0.29\n",
      "SVM Classification Report:\n"
     ]
    }
   ],
   "source": [
    "print(f\"SVM Accuracy: {svm_accuracy:.2f}\")\n",
    "print(\"SVM Classification Report:\")\n"
   ]
  },
  {
   "cell_type": "code",
   "execution_count": 69,
   "id": "fe25dfba",
   "metadata": {},
   "outputs": [],
   "source": [
    "import pickle\n",
    "\n",
    "with open('svm_model.pkl', 'wb') as model_file:\n",
    "    pickle.dump(svm_clf, model_file)"
   ]
  },
  {
   "cell_type": "code",
   "execution_count": null,
   "id": "97e7ff61",
   "metadata": {},
   "outputs": [],
   "source": []
  }
 ],
 "metadata": {
  "kernelspec": {
   "display_name": "Python 3 (ipykernel)",
   "language": "python",
   "name": "python3"
  },
  "language_info": {
   "codemirror_mode": {
    "name": "ipython",
    "version": 3
   },
   "file_extension": ".py",
   "mimetype": "text/x-python",
   "name": "python",
   "nbconvert_exporter": "python",
   "pygments_lexer": "ipython3",
   "version": "3.10.6"
  }
 },
 "nbformat": 4,
 "nbformat_minor": 5
}
